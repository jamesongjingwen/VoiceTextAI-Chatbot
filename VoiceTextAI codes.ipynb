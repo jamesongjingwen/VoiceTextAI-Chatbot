{
 "cells": [
  {
   "cell_type": "code",
   "execution_count": 33,
   "id": "ad4ffa2b-ea8b-4b40-bc1e-eae37ba240da",
   "metadata": {},
   "outputs": [],
   "source": [
    "import tkinter as tk\n",
    "from tkinter import scrolledtext\n",
    "import speech_recognition as sr\n",
    "from gtts import gTTS\n",
    "import os\n",
    "import openai"
   ]
  },
  {
   "cell_type": "code",
   "execution_count": 40,
   "id": "24303b4c-8f02-432a-8add-a3f19d6f6cfa",
   "metadata": {},
   "outputs": [],
   "source": [
    "#API Key\n",
    "api_key = '' #Input API Key"
   ]
  },
  {
   "cell_type": "code",
   "execution_count": 35,
   "id": "52c9e2d6-02c2-46ca-afc0-4269b1c9b67e",
   "metadata": {},
   "outputs": [],
   "source": [
    "#Get response from OpenAI\n",
    "def get_openai_response(question, api_key, max_tokens=200):\n",
    "    openai.api_key = api_key\n",
    "    response = openai.Completion.create(\n",
    "        engine=\"text-davinci-003\",  \n",
    "        prompt=question,\n",
    "        max_tokens=max_tokens\n",
    "    )\n",
    "    return response.choices[0].text.strip()"
   ]
  },
  {
   "cell_type": "code",
   "execution_count": 36,
   "id": "656f5e3b-ae00-4403-942d-3f9e51ece989",
   "metadata": {},
   "outputs": [],
   "source": [
    "# Voice-to-Text Function\n",
    "def voice_to_text():\n",
    "    r = sr.Recognizer()\n",
    "    with sr.Microphone() as source:\n",
    "        print(\"Speak Now...\")\n",
    "        audio = r.listen(source)\n",
    "    try:\n",
    "        return r.recognize_google(audio)\n",
    "    except sr.UnknownValueError:\n",
    "        return \"Could not understand audio\"\n",
    "    except sr.RequestError:\n",
    "        return \"Voice recognition not available\"\n",
    "\n",
    "# Text-to-Voice Function\n",
    "def text_to_speech(text):\n",
    "    tts = gTTS(text=text, lang='en')\n",
    "    tts.save(\"response.mp3\")\n",
    "    os.system(\"start response.mp3\")"
   ]
  },
  {
   "cell_type": "code",
   "execution_count": 37,
   "id": "dd76b75f-a301-44fe-a102-e8b73d85137b",
   "metadata": {},
   "outputs": [],
   "source": [
    "#Get response from query\n",
    "def ask_question():\n",
    "    question = entry.get(\"1.0\", tk.END)\n",
    "    response = get_openai_response(question, api_key)\n",
    "    response_text.config(state=tk.NORMAL)\n",
    "    response_text.delete(\"1.0\", tk.END)\n",
    "    response_text.insert(tk.INSERT, response)\n",
    "    response_text.config(state=tk.DISABLED)\n",
    "    text_to_speech(response) \n",
    "\n",
    "#Get response from voice query\n",
    "def ask_question_voice():\n",
    "    question = voice_to_text()\n",
    "    entry.delete(\"1.0\", tk.END)\n",
    "    entry.insert(tk.INSERT, question)\n",
    "    ask_question()"
   ]
  },
  {
   "cell_type": "code",
   "execution_count": 42,
   "id": "8c842045-3a6a-45b0-ab2d-0bbd5afd0a16",
   "metadata": {},
   "outputs": [],
   "source": [
    "#Tkinter Interface\n",
    "root = tk.Tk()\n",
    "root.title(\"Response Portal\")\n",
    "\n",
    "# Text box for entering the question\n",
    "entry_label = tk.Label(root, text=\"Enter your question or use voice input:\")\n",
    "entry_label.pack()\n",
    "entry = scrolledtext.ScrolledText(root, wrap=tk.WORD, height=5)\n",
    "entry.pack()\n",
    "\n",
    "# Button to submit the question\n",
    "ask_button = tk.Button(root, text=\"Ask\", command=ask_question)\n",
    "ask_button.pack()\n",
    "\n",
    "# Button for voice input\n",
    "voice_button = tk.Button(root, text=\"Record Button\", command=ask_question_voice)\n",
    "voice_button.pack()\n",
    "\n",
    "# Text box for showing the response\n",
    "response_label = tk.Label(root, text=\"Response:\")\n",
    "response_label.pack()\n",
    "response_text = scrolledtext.ScrolledText(root, wrap=tk.WORD, height=10, state=tk.DISABLED)\n",
    "response_text.pack()\n",
    "\n",
    "# Run the application\n",
    "root.mainloop()"
   ]
  }
 ],
 "metadata": {
  "kernelspec": {
   "display_name": "Python 3 (ipykernel)",
   "language": "python",
   "name": "python3"
  },
  "language_info": {
   "codemirror_mode": {
    "name": "ipython",
    "version": 3
   },
   "file_extension": ".py",
   "mimetype": "text/x-python",
   "name": "python",
   "nbconvert_exporter": "python",
   "pygments_lexer": "ipython3",
   "version": "3.10.13"
  }
 },
 "nbformat": 4,
 "nbformat_minor": 5
}
